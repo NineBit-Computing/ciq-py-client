{
  "cells": [
    {
      "cell_type": "markdown",
      "id": "c0bd1d02",
      "metadata": {},
      "source": [
        "# NineBit CIQ Python SDK for RAG (Retrieval Augmented Generation)\n",
        "Official Python SDK client for interacting with NineBit CIQ, a Retrieval-Augmented Generation (RAG) workflow orchestration platform for secure, private, rapid prototyping of AI/ML ideas using enterprise data and open-source models."
      ]
    },
    {
      "cell_type": "code",
      "execution_count": null,
      "id": "7465637e",
      "metadata": {},
      "outputs": [],
      "source": [
        "!pip install ninebit-ciq"
      ]
    },
    {
      "cell_type": "markdown",
      "id": "5dddeb2c",
      "metadata": {},
      "source": [
        "This SDK acts as a bridge between your local environment and the CIQ platform."
      ]
    },
    {
      "cell_type": "code",
      "execution_count": null,
      "id": "371ff335",
      "metadata": {},
      "outputs": [],
      "source": [
        "from ninebit_ciq import NineBitCIQClient"
      ]
    },
    {
      "cell_type": "markdown",
      "id": "3e44d274",
      "metadata": {},
      "source": [
        "To connect to CIQ, you'll need an API_KEY \n",
        "\n",
        "Sign up at https://ciq.ninebit.in/register/  \n",
        "\n",
        "Copy your API key from the dashboard. "
      ]
    },
    {
      "cell_type": "code",
      "execution_count": null,
      "id": "42a15b88",
      "metadata": {},
      "outputs": [],
      "source": [
        "client = NineBitCIQClient(api_key=\"YOUR_API_KEY\")\n",
        "print(client)"
      ]
    },
    {
      "cell_type": "markdown",
      "id": "f5defef2",
      "metadata": {},
      "source": [
        "## 1️⃣ Ingest a Local PDF"
      ]
    },
    {
      "cell_type": "code",
      "execution_count": null,
      "id": "74baf231",
      "metadata": {},
      "outputs": [],
      "source": [
        "from google.colab import files\n",
        "uploaded = files.upload()  # Opens file picker\n",
        "filename = list(uploaded.keys())[0]\n",
        "result = client.ingest_file(file=filename)\n",
        "print(\"File ingested Success\")"
      ]
    },
    {
      "cell_type": "markdown",
      "id": "3ac20faf",
      "metadata": {},
      "source": [
        "## 2️⃣ Run a RAG Query"
      ]
    },
    {
      "cell_type": "code",
      "execution_count": null,
      "id": "e0a5c314",
      "metadata": {},
      "outputs": [],
      "source": [
        "query = \"What are land breeze?\"\n",
        "response = client.rag_query(query=query)\n",
        "print(\"RAG Response:\", response)"
      ]
    }
  ],
  "metadata": {
    "kernelspec": {
      "display_name": ".venv",
      "language": "python",
      "name": "python3"
    },
    "language_info": {
      "codemirror_mode": {
        "name": "ipython",
        "version": 3
      },
      "file_extension": ".py",
      "mimetype": "text/x-python",
      "name": "python",
      "nbconvert_exporter": "python",
      "pygments_lexer": "ipython3",
      "version": "3.11.11"
    }
  },
  "nbformat": 4,
  "nbformat_minor": 5
}
