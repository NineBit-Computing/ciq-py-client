{
 "cells": [
  {
   "cell_type": "markdown",
   "id": "c0bd1d02",
   "metadata": {},
   "source": [
    "# 🧪 Exploring NineBit CIQ SDK\n",
    "Demonstration of ingestion and RAG-query capabilities."
   ]
  },
  {
   "cell_type": "code",
   "execution_count": null,
   "id": "7465637e",
   "metadata": {},
   "outputs": [],
   "source": [
    "!pip install ninebit-ciq"
   ]
  },
  {
   "cell_type": "code",
   "execution_count": null,
   "id": "371ff335",
   "metadata": {},
   "outputs": [],
   "source": [
    "from ninebit_ciq import NineBitCIQClient"
   ]
  },
  {
   "cell_type": "code",
   "execution_count": null,
   "id": "42a15b88",
   "metadata": {},
   "outputs": [],
   "source": [
    "client = NineBitCIQClient(api_key=\"YOUR_API_KEY\")\n",
    "print(client)"
   ]
  },
  {
   "cell_type": "markdown",
   "id": "f5defef2",
   "metadata": {},
   "source": [
    "## 1️⃣ Ingest a Local PDF"
   ]
  },
  {
   "cell_type": "code",
   "execution_count": null,
   "id": "74baf231",
   "metadata": {},
   "outputs": [],
   "source": [
    "result = client.ingest_file(file=\"files/geo_chap_9.pdf\")\n",
    "print(\"Ingest result:\", result)"
   ]
  },
  {
   "cell_type": "markdown",
   "id": "3ac20faf",
   "metadata": {},
   "source": [
    "## 2️⃣ Run a RAG Query"
   ]
  },
  {
   "cell_type": "code",
   "execution_count": null,
   "id": "e0a5c314",
   "metadata": {},
   "outputs": [],
   "source": [
    "query = \"What are land breeze?\"\n",
    "response = client.rag_query(query=query)\n",
    "print(\"RAG Response:\", response)"
   ]
  }
 ],
 "metadata": {
  "kernelspec": {
   "display_name": "Python 3",
   "language": "python",
   "name": "python3"
  }
 },
 "nbformat": 4,
 "nbformat_minor": 5
}
